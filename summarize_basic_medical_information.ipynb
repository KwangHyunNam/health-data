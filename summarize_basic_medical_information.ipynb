{
  "nbformat": 4,
  "nbformat_minor": 0,
  "metadata": {
    "colab": {
      "provenance": [],
      "authorship_tag": "ABX9TyPifx5MTxnpNEfKhkj3yyyD",
      "include_colab_link": true
    },
    "kernelspec": {
      "name": "python3",
      "display_name": "Python 3"
    },
    "language_info": {
      "name": "python"
    }
  },
  "cells": [
    {
      "cell_type": "markdown",
      "metadata": {
        "id": "view-in-github",
        "colab_type": "text"
      },
      "source": [
        "<a href=\"https://colab.research.google.com/github/KwangHyunNam/health-data/blob/main/summarize_basic_medical_information.ipynb\" target=\"_parent\"><img src=\"https://colab.research.google.com/assets/colab-badge.svg\" alt=\"Open In Colab\"/></a>"
      ]
    },
    {
      "cell_type": "code",
      "source": [
        "pip install pdfplumber pandas"
      ],
      "metadata": {
        "colab": {
          "base_uri": "https://localhost:8080/"
        },
        "id": "Onkxe8Ecr88f",
        "outputId": "ca1071bd-ea9a-4335-fc02-60dca7c06942"
      },
      "execution_count": 2,
      "outputs": [
        {
          "output_type": "stream",
          "name": "stdout",
          "text": [
            "Collecting pdfplumber\n",
            "  Downloading pdfplumber-0.11.7-py3-none-any.whl.metadata (42 kB)\n",
            "\u001b[?25l     \u001b[90m━━━━━━━━━━━━━━━━━━━━━━━━━━━━━━━━━━━━━━━━\u001b[0m \u001b[32m0.0/42.8 kB\u001b[0m \u001b[31m?\u001b[0m eta \u001b[36m-:--:--\u001b[0m\r\u001b[2K     \u001b[90m━━━━━━━━━━━━━━━━━━━━━━━━━━━━━━━━━━━━━━━━\u001b[0m \u001b[32m42.8/42.8 kB\u001b[0m \u001b[31m1.7 MB/s\u001b[0m eta \u001b[36m0:00:00\u001b[0m\n",
            "\u001b[?25hRequirement already satisfied: pandas in /usr/local/lib/python3.11/dist-packages (2.2.2)\n",
            "Collecting pdfminer.six==20250506 (from pdfplumber)\n",
            "  Downloading pdfminer_six-20250506-py3-none-any.whl.metadata (4.2 kB)\n",
            "Requirement already satisfied: Pillow>=9.1 in /usr/local/lib/python3.11/dist-packages (from pdfplumber) (11.3.0)\n",
            "Collecting pypdfium2>=4.18.0 (from pdfplumber)\n",
            "  Downloading pypdfium2-4.30.0-py3-none-manylinux_2_17_x86_64.manylinux2014_x86_64.whl.metadata (48 kB)\n",
            "\u001b[2K     \u001b[90m━━━━━━━━━━━━━━━━━━━━━━━━━━━━━━━━━━━━━━━━\u001b[0m \u001b[32m48.5/48.5 kB\u001b[0m \u001b[31m2.3 MB/s\u001b[0m eta \u001b[36m0:00:00\u001b[0m\n",
            "\u001b[?25hRequirement already satisfied: charset-normalizer>=2.0.0 in /usr/local/lib/python3.11/dist-packages (from pdfminer.six==20250506->pdfplumber) (3.4.2)\n",
            "Requirement already satisfied: cryptography>=36.0.0 in /usr/local/lib/python3.11/dist-packages (from pdfminer.six==20250506->pdfplumber) (43.0.3)\n",
            "Requirement already satisfied: numpy>=1.23.2 in /usr/local/lib/python3.11/dist-packages (from pandas) (2.0.2)\n",
            "Requirement already satisfied: python-dateutil>=2.8.2 in /usr/local/lib/python3.11/dist-packages (from pandas) (2.9.0.post0)\n",
            "Requirement already satisfied: pytz>=2020.1 in /usr/local/lib/python3.11/dist-packages (from pandas) (2025.2)\n",
            "Requirement already satisfied: tzdata>=2022.7 in /usr/local/lib/python3.11/dist-packages (from pandas) (2025.2)\n",
            "Requirement already satisfied: six>=1.5 in /usr/local/lib/python3.11/dist-packages (from python-dateutil>=2.8.2->pandas) (1.17.0)\n",
            "Requirement already satisfied: cffi>=1.12 in /usr/local/lib/python3.11/dist-packages (from cryptography>=36.0.0->pdfminer.six==20250506->pdfplumber) (1.17.1)\n",
            "Requirement already satisfied: pycparser in /usr/local/lib/python3.11/dist-packages (from cffi>=1.12->cryptography>=36.0.0->pdfminer.six==20250506->pdfplumber) (2.22)\n",
            "Downloading pdfplumber-0.11.7-py3-none-any.whl (60 kB)\n",
            "\u001b[2K   \u001b[90m━━━━━━━━━━━━━━━━━━━━━━━━━━━━━━━━━━━━━━━━\u001b[0m \u001b[32m60.0/60.0 kB\u001b[0m \u001b[31m4.3 MB/s\u001b[0m eta \u001b[36m0:00:00\u001b[0m\n",
            "\u001b[?25hDownloading pdfminer_six-20250506-py3-none-any.whl (5.6 MB)\n",
            "\u001b[2K   \u001b[90m━━━━━━━━━━━━━━━━━━━━━━━━━━━━━━━━━━━━━━━━\u001b[0m \u001b[32m5.6/5.6 MB\u001b[0m \u001b[31m62.3 MB/s\u001b[0m eta \u001b[36m0:00:00\u001b[0m\n",
            "\u001b[?25hDownloading pypdfium2-4.30.0-py3-none-manylinux_2_17_x86_64.manylinux2014_x86_64.whl (2.8 MB)\n",
            "\u001b[2K   \u001b[90m━━━━━━━━━━━━━━━━━━━━━━━━━━━━━━━━━━━━━━━━\u001b[0m \u001b[32m2.8/2.8 MB\u001b[0m \u001b[31m85.9 MB/s\u001b[0m eta \u001b[36m0:00:00\u001b[0m\n",
            "\u001b[?25hInstalling collected packages: pypdfium2, pdfminer.six, pdfplumber\n",
            "Successfully installed pdfminer.six-20250506 pdfplumber-0.11.7 pypdfium2-4.30.0\n"
          ]
        }
      ]
    },
    {
      "cell_type": "code",
      "execution_count": 3,
      "metadata": {
        "id": "KZ34_TBtrTrJ"
      },
      "outputs": [],
      "source": [
        "import pdfplumber\n",
        "import pandas as pd\n",
        "\n",
        "def summarize_medical_expenses(pdf_path):\n",
        "    data = []\n",
        "\n",
        "    # PDF에서 테이블 추출\n",
        "    with pdfplumber.open(pdf_path) as pdf:\n",
        "        for page in pdf.pages:\n",
        "            table = page.extract_table()\n",
        "            if not table:\n",
        "                continue\n",
        "\n",
        "            for row in table[1:]:  # 첫 행은 헤더 생략\n",
        "                try:\n",
        "                    진료시작일 = row[1].strip()\n",
        "                    주상병명 = row[6].strip()\n",
        "                    총진료비 = int(row[8].replace(\",\", \"\").strip())\n",
        "                    내가낸의료비 = int(row[10].replace(\",\", \"\").strip())\n",
        "\n",
        "                    data.append({\n",
        "                        \"진료시작일\": 진료시작일,\n",
        "                        \"주상병명\": 주상병명,\n",
        "                        \"총 진료비\": 총진료비,\n",
        "                        \"내가 낸 의료비\": 내가낸의료비\n",
        "                    })\n",
        "                except (IndexError, ValueError):\n",
        "                    continue  # 누락된 값 또는 숫자 형식 오류가 있을 경우 skip\n",
        "\n",
        "    # 데이터프레임 생성\n",
        "    df = pd.DataFrame(data)\n",
        "\n",
        "    if df.empty:\n",
        "        print(\"유효한 진료 정보가 없습니다.\")\n",
        "        return None\n",
        "\n",
        "    # 집계 요약\n",
        "    summary = df.groupby(\"주상병명\").agg({\n",
        "        \"진료시작일\": lambda x: \", \".join(sorted(set(x))),\n",
        "        \"총 진료비\": \"sum\",\n",
        "        \"내가 낸 의료비\": \"sum\"\n",
        "    }).reset_index()\n",
        "\n",
        "    # 총 진료비 기준 내림차순 정렬\n",
        "    summary = summary.sort_values(by=\"총 진료비\", ascending=False).reset_index(drop=True)\n",
        "\n",
        "    return summary"
      ]
    },
    {
      "cell_type": "code",
      "source": [
        "import os\n",
        "\n",
        "# 1. GitHub 저장소 주소 설정\n",
        "github_repo_url = \"https://github.com/KwangHyunNam/health-data.git\"  # 실제 저장소 주소로 변경\n",
        "\n",
        "# 2. 저장소 클론\n",
        "!git clone {github_repo_url}\n",
        "\n",
        "# 3. PDF 파일 경로 찾기\n",
        "repo_name = github_repo_url.split(\"/\")[-1].replace(\".git\", \"\")\n",
        "pdf_file_path = None\n",
        "for root, dirs, files in os.walk(repo_name):\n",
        "    for file in files:\n",
        "        if file.endswith(\".pdf\"):\n",
        "            pdf_file_path = os.path.join(root, file)\n",
        "            break\n",
        "    if pdf_file_path:\n",
        "        break\n",
        "\n",
        "# 4. PDF 파일 처리 및 요약\n",
        "if pdf_file_path:\n",
        "    summary_df = summarize_medical_expenses(pdf_file_path)\n",
        "    if summary_df is not None:\n",
        "        display(summary_df)\n",
        "else:\n",
        "    print(\"PDF 파일을 찾을 수 없습니다.\")"
      ],
      "metadata": {
        "id": "_EzK_ZrVr5nu"
      },
      "execution_count": null,
      "outputs": []
    }
  ]
}